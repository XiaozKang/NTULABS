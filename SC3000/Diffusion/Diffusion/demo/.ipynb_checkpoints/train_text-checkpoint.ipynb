{
 "cells": [
  {
   "cell_type": "markdown",
   "id": "212788c676b2f6ac",
   "metadata": {
    "collapsed": false,
    "jupyter": {
     "outputs_hidden": false
    }
   },
   "source": [
    "# $\\clubsuit$ Step5: Train a diffusion model that can be controlled by textual descriptions"
   ]
  },
  {
   "cell_type": "markdown",
   "id": "b9b8a146e5caeec3",
   "metadata": {
    "collapsed": false,
    "jupyter": {
     "outputs_hidden": false
    }
   },
   "source": [
    "### $\\Rightarrow$ (1) Import the required packages:"
   ]
  },
  {
   "cell_type": "code",
   "execution_count": null,
   "id": "700e687c",
   "metadata": {
    "tags": []
   },
   "outputs": [],
   "source": [
    "from typing import Dict, Tuple\n",
    "from tqdm import tqdm\n",
    "import torch\n",
    "import torch.nn as nn\n",
    "import torch.nn.functional as F\n",
    "from torch.utils.data import DataLoader\n",
    "from torchvision import models, transforms\n",
    "from torchvision.utils import save_image, make_grid\n",
    "import matplotlib.pyplot as plt\n",
    "from matplotlib.animation import FuncAnimation, PillowWriter\n",
    "import numpy as np\n",
    "from IPython.display import HTML\n",
    "from utilities import *\n",
    "import matplotlib.pyplot as plt"
   ]
  },
  {
   "cell_type": "markdown",
   "id": "7c0d229a",
   "metadata": {
    "collapsed": false,
    "jupyter": {
     "outputs_hidden": false
    }
   },
   "source": [
    "### $\\Rightarrow$ (2) Configuration:"
   ]
  },
  {
   "cell_type": "code",
   "execution_count": null,
   "id": "54c3a942",
   "metadata": {
    "collapsed": false,
    "jupyter": {
     "outputs_hidden": false
    }
   },
   "outputs": [],
   "source": [
    "timesteps = 500\n",
    "beta1 = 1e-4\n",
    "beta2 = 0.02\n",
    "device = torch.device(\"cuda:0\" if torch.cuda.is_available() else torch.device('cpu'))\n",
    "n_feat = 64\n",
    "n_cfeat = 5\n",
    "height = 16\n",
    "save_dir = './ckpt/train_text'\n",
    "batch_size = 100\n",
    "n_epoch = 32\n",
    "lrate=1e-3\n",
    "b_t = (beta2 - beta1) * torch.linspace(0, 1, timesteps + 1, device=device) + beta1\n",
    "a_t = 1 - b_t\n",
    "ab_t = torch.cumsum(a_t.log(), dim=0).exp()    \n",
    "ab_t[0] = 1"
   ]
  },
  {
   "cell_type": "markdown",
   "id": "8c72fcffc90ece95",
   "metadata": {
    "collapsed": false,
    "jupyter": {
     "outputs_hidden": false
    }
   },
   "source": [
    "### $\\Rightarrow$ (3) Construct the network Unet:"
   ]
  },
  {
   "cell_type": "code",
   "execution_count": null,
   "id": "23507e17",
   "metadata": {
    "collapsed": false,
    "jupyter": {
     "outputs_hidden": false
    }
   },
   "outputs": [],
   "source": [
    "class Unet(nn.Module):\n",
    "    def __init__(self, in_channels, n_feat=256, n_cfeat=10, height=28):  # cfeat - context features\n",
    "        super(Unet, self).__init__()\n",
    "        self.in_channels = in_channels\n",
    "        self.n_feat = n_feat\n",
    "        self.n_cfeat = n_cfeat\n",
    "        self.h = height\n",
    "\n",
    "        self.init_conv = ResidualConvBlock(in_channels, n_feat, is_res=True)\n",
    "        self.down1 = UnetDown(n_feat, n_feat)\n",
    "        self.down2 = UnetDown(n_feat, 2 * n_feat) \n",
    "        \n",
    "        self.to_vec = nn.Sequential(nn.AvgPool2d((4)), nn.GELU())\n",
    "        self.timeembed1 = EmbedFC(1, 2*n_feat)\n",
    "        self.timeembed2 = EmbedFC(1, 1*n_feat)\n",
    "        self.contextembed1 = EmbedFC(n_cfeat, 2*n_feat)\n",
    "        self.contextembed2 = EmbedFC(n_cfeat, 1*n_feat)\n",
    "\n",
    "\n",
    "        self.up0 = nn.Sequential(\n",
    "            nn.ConvTranspose2d(2 * n_feat, 2 * n_feat, self.h//4, self.h//4),\n",
    "            nn.GroupNorm(8, 2 * n_feat),                    \n",
    "            nn.ReLU(),\n",
    "        )\n",
    "        self.up1 = UnetUp(4 * n_feat, n_feat)\n",
    "        self.up2 = UnetUp(2 * n_feat, n_feat)\n",
    "\n",
    "        self.out = nn.Sequential(\n",
    "            nn.Conv2d(2 * n_feat, n_feat, 3, 1, 1),\n",
    "            nn.GroupNorm(8, n_feat),\n",
    "            nn.ReLU(),\n",
    "            nn.Conv2d(n_feat, self.in_channels, 3, 1, 1),\n",
    "        )\n",
    "\n",
    "    def forward(self, x, t, c=None):\n",
    "        \"\"\"\n",
    "        x : (batch, n_feat, h, w) : input image\n",
    "        t : (batch, n_cfeat)      : time step\n",
    "        c : (batch, n_classes)    : context label\n",
    "        \"\"\"\n",
    "        x = self.init_conv(x)\n",
    "        down1 = self.down1(x)\n",
    "        down2 = self.down2(down1)\n",
    "        hiddenvec = self.to_vec(down2)\n",
    "        \n",
    "        if c is None:\n",
    "            c = torch.zeros(x.shape[0], self.n_cfeat).to(x)\n",
    "            \n",
    "        cemb1 = self.contextembed1(c).view(-1, self.n_feat * 2, 1, 1)\n",
    "        temb1 = self.timeembed1(t).view(-1, self.n_feat * 2, 1, 1)\n",
    "        cemb2 = self.contextembed2(c).view(-1, self.n_feat, 1, 1)\n",
    "        temb2 = self.timeembed2(t).view(-1, self.n_feat, 1, 1)\n",
    "\n",
    "        up1 = self.up0(hiddenvec)\n",
    "        up2 = self.up1(cemb1*up1 + temb1, down2)\n",
    "        up3 = self.up2(cemb2*up2 + temb2, down1)\n",
    "        out = self.out(torch.cat((up3, x), 1))\n",
    "        return out\n"
   ]
  },
  {
   "cell_type": "markdown",
   "id": "27d711c3c808bd0d",
   "metadata": {
    "collapsed": false,
    "jupyter": {
     "outputs_hidden": false
    }
   },
   "source": [
    "### $\\Rightarrow$ (4) Build the model, optimizer, and dataloader:"
   ]
  },
  {
   "cell_type": "code",
   "execution_count": null,
   "id": "cb8f8c84ad48b4a4",
   "metadata": {
    "collapsed": false,
    "jupyter": {
     "outputs_hidden": false
    }
   },
   "outputs": [],
   "source": [
    "model = Unet(in_channels=3, n_feat=n_feat, n_cfeat=n_cfeat, height=height).to(device)\n",
    "dataset = CustomDataset(\"./data/sprites_1788_16x16.npy\", \"./data/sprite_labels_nc_1788_16x16.npy\", transform, null_context=False)\n",
    "dataloader = DataLoader(dataset, batch_size=batch_size, shuffle=True, num_workers=1)\n",
    "optim = torch.optim.Adam(model.parameters(), lr=lrate)"
   ]
  },
  {
   "cell_type": "markdown",
   "id": "d9ed46d7",
   "metadata": {},
   "source": [
    "### $\\Rightarrow$ (5) The training stage begins:\n",
    "#### <font color=blue>Notice: The training will take hours on a CPU. Recommend skipping this step and use off-the-shelf checkpoints in ``./ckpt'' to visualize final results.</font>"
   ]
  },
  {
   "cell_type": "raw",
   "id": "1eab3a28-35e1-4e14-b946-92f1e4134dec",
   "metadata": {
    "collapsed": false,
    "jupyter": {
     "outputs_hidden": false
    }
   },
   "source": [
    "def perturb_input(x, t, noise):\n",
    "    return ab_t.sqrt()[t, None, None, None] * x + (1 - ab_t[t, None, None, None]) * noise\n",
    "\n",
    "model.train()\n",
    "for ep in range(n_epoch):\n",
    "    print(f'epoch {ep}')\n",
    "    optim.param_groups[0]['lr'] = lrate*(1-ep/n_epoch)\n",
    "    \n",
    "    pbar = tqdm(dataloader, mininterval=2 )\n",
    "    for x, c in pbar:\n",
    "        optim.zero_grad()\n",
    "        x = x.to(device)\n",
    "        c = c.to(x)\n",
    "        \n",
    "        context_mask = torch.bernoulli(torch.zeros(c.shape[0]) + 0.9).to(device)\n",
    "        c = c * context_mask.unsqueeze(-1)\n",
    "\n",
    "        noise = torch.randn_like(x)\n",
    "        t = torch.randint(1, timesteps + 1, (x.shape[0],)).to(device) \n",
    "        x_pert = perturb_input(x, t, noise)\n",
    "        \n",
    "        pred_noise = model(x_pert, t / timesteps, c=c)\n",
    "        loss = F.mse_loss(pred_noise, noise)\n",
    "        loss.backward() \n",
    "        optim.step()\n",
    "\n",
    "    if ep%4==0 or ep == int(n_epoch-1):\n",
    "        if not os.path.exists(save_dir):\n",
    "            os.mkdir(save_dir)\n",
    "        torch.save(model.state_dict(), save_dir + f\"context_model_{ep}.pth\")\n",
    "        print('saved model at ' + save_dir + f\"context_model_{ep}.pth\")"
   ]
  },
  {
   "cell_type": "markdown",
   "id": "fdf93c0a-46bf-4809-87af-b2ad84f8c515",
   "metadata": {},
   "source": [
    "### $\\Rightarrow$ (6) Sampling with the control of texts"
   ]
  },
  {
   "cell_type": "code",
   "execution_count": null,
   "id": "b6d45152-ddb0-4c6f-88de-251bea95dd60",
   "metadata": {
    "tags": []
   },
   "outputs": [],
   "source": [
    "def denoise_add_noise(x, t, pred_noise, z=None):\n",
    "    if z is None:\n",
    "        z = torch.randn_like(x)\n",
    "    noise = b_t.sqrt()[t] * z\n",
    "    mean = (x - pred_noise * ((1 - a_t[t]) / (1 - ab_t[t]).sqrt())) / a_t[t].sqrt()\n",
    "    return mean + noise\n",
    "\n",
    "@torch.no_grad()\n",
    "def sample_ddpm_context(n_sample, context, save_rate=20):\n",
    "    samples = torch.randn(n_sample, 3, height, height).to(device)  \n",
    "    intermediate = [] \n",
    "    for i in range(timesteps, 0, -1):\n",
    "        print(f'sampling timestep {i:3d}', end='\\r')\n",
    "        t = torch.tensor([i / timesteps])[:, None, None, None].to(device)\n",
    "        z = torch.randn_like(samples) if i > 1 else 0\n",
    "\n",
    "        eps = model(samples, t, c=context) \n",
    "        samples = denoise_add_noise(samples, i, eps, z)\n",
    "        if i % save_rate==0 or i==timesteps or i<8:\n",
    "            intermediate.append(samples.detach().cpu().numpy())\n",
    "\n",
    "    intermediate = np.stack(intermediate)\n",
    "    return samples, intermediate\n",
    "\n",
    "def show_images(imgs, nrow=2):\n",
    "    _, axs = plt.subplots(nrow, imgs.shape[0] // nrow, figsize=(4,2 ))\n",
    "    axs = axs.flatten()\n",
    "    for img, ax in zip(imgs, axs):\n",
    "        img = (img.permute(1, 2, 0).clip(-1, 1).detach().cpu().numpy() + 1) / 2\n",
    "        ax.set_xticks([])\n",
    "        ax.set_yticks([])\n",
    "        ax.imshow(img)\n",
    "    plt.show()"
   ]
  },
  {
   "cell_type": "markdown",
   "id": "5850caf8742d4691",
   "metadata": {
    "collapsed": false,
    "jupyter": {
     "outputs_hidden": false
    }
   },
   "source": [
    "#### $\\diamondsuit$ Let's tell the model to generate \"Hero\"!\n",
    "##### <font color=blue> Note that \"Hero\" is represented by the vector [1, 0, 0, 0, 0] <font>"
   ]
  },
  {
   "cell_type": "code",
   "execution_count": null,
   "id": "cae01643",
   "metadata": {
    "scrolled": true,
    "tags": []
   },
   "outputs": [],
   "source": [
    "model.load_state_dict(torch.load(f\"{save_dir}/context_model_trained.pth\", map_location=device))\n",
    "model.eval()\n",
    "ctx = torch.tensor([\n",
    "    # Hero: \n",
    "    [1,0,0,0,0],  [1,0,0,0,0], [1,0,0,0,0], [1,0,0,0,0],\n",
    "    [1,0,0,0,0],  [1,0,0,0,0], [1,0,0,0,0], [1,0,0,0,0],\n",
    "    [1,0,0,0,0],  [1,0,0,0,0], [1,0,0,0,0], [1,0,0,0,0],\n",
    "    [1,0,0,0,0],  [1,0,0,0,0], [1,0,0,0,0], [1,0,0,0,0],\n",
    "    [1,0,0,0,0],  [1,0,0,0,0], [1,0,0,0,0], [1,0,0,0,0],\n",
    "    [1,0,0,0,0],  [1,0,0,0,0], [1,0,0,0,0], [1,0,0,0,0],\n",
    "    [1,0,0,0,0],  [1,0,0,0,0], [1,0,0,0,0], [1,0,0,0,0],\n",
    "    [1,0,0,0,0],  [1,0,0,0,0], [1,0,0,0,0], [1,0,0,0,0],\n",
    "]).float().to(device)\n",
    "samples, intermediate = sample_ddpm_context(ctx.shape[0], ctx)\n",
    "animation_ddpm_context = plot_sample(intermediate,ctx.shape[0],8,save_dir, \"ani_run\", None,save=False)\n",
    "HTML(animation_ddpm_context.to_jshtml())\n"
   ]
  },
  {
   "cell_type": "markdown",
   "id": "aa7ada67530e619d",
   "metadata": {
    "collapsed": false,
    "jupyter": {
     "outputs_hidden": false
    }
   },
   "source": [
    "#### $\\diamondsuit$ Let's tell the model to generate \"Food\"!\n",
    "##### <font color=blue>Note that \"Food\" is represented by the vector [0, 0, 1, 0, 0]<font>"
   ]
  },
  {
   "cell_type": "code",
   "execution_count": null,
   "id": "6c564ca7",
   "metadata": {
    "tags": []
   },
   "outputs": [],
   "source": [
    "model.load_state_dict(torch.load(f\"{save_dir}/context_model_trained.pth\", map_location=device))\n",
    "model.eval()\n",
    "ctx = torch.tensor([\n",
    "    # Food:\n",
    "    [0,0,1,0,0], [0,0,1,0,0], [0,0,1,0,0], [0,0,1,0,0],\n",
    "    [0,0,1,0,0], [0,0,1,0,0], [0,0,1,0,0], [0,0,1,0,0],\n",
    "    [0,0,1,0,0], [0,0,1,0,0], [0,0,1,0,0], [0,0,1,0,0],\n",
    "    [0,0,1,0,0], [0,0,1,0,0], [0,0,1,0,0], [0,0,1,0,0],\n",
    "    [0,0,1,0,0], [0,0,1,0,0], [0,0,1,0,0], [0,0,1,0,0],\n",
    "    [0,0,1,0,0], [0,0,1,0,0], [0,0,1,0,0], [0,0,1,0,0],\n",
    "    [0,0,1,0,0], [0,0,1,0,0], [0,0,1,0,0], [0,0,1,0,0],\n",
    "    [0,0,1,0,0], [0,0,1,0,0], [0,0,1,0,0], [0,0,1,0,0],\n",
    "]).float().to(device)\n",
    "samples, intermediate = sample_ddpm_context(ctx.shape[0], ctx)\n",
    "animation_ddpm_context = plot_sample(intermediate,ctx.shape[0],8, save_dir, \"ani_run\", None,save=False)\n",
    "HTML(animation_ddpm_context.to_jshtml())"
   ]
  },
  {
   "cell_type": "markdown",
   "id": "9b055d391e4035fc",
   "metadata": {
    "collapsed": false,
    "jupyter": {
     "outputs_hidden": false
    }
   },
   "source": [
    "#### $\\diamondsuit$ Let's tell the model to generate \"spell\"!\n",
    "##### <font color=blue>Note that \"Spell\" is represented by the vector [0, 0, 0, 1, 0]<font>"
   ]
  },
  {
   "cell_type": "code",
   "execution_count": null,
   "id": "845e12c1c743121a",
   "metadata": {
    "ExecuteTime": {
     "end_time": "2024-01-07T06:03:33.567581Z",
     "start_time": "2024-01-07T06:02:28.819688Z"
    },
    "collapsed": false,
    "jupyter": {
     "outputs_hidden": false
    }
   },
   "outputs": [],
   "source": [
    "model.load_state_dict(torch.load(f\"{save_dir}/context_model_trained.pth\", map_location=device))\n",
    "model.eval()\n",
    "ctx = torch.tensor([\n",
    "    # Food:\n",
    "    [0,0,0,1,0], [0,0,0,1,0], [0,0,0,1,0], [0,0,0,1,0],\n",
    "    [0,0,0,1,0], [0,0,0,1,0], [0,0,0,1,0], [0,0,0,1,0],\n",
    "    [0,0,0,1,0], [0,0,0,1,0], [0,0,0,1,0], [0,0,0,1,0],\n",
    "    [0,0,0,1,0], [0,0,0,1,0], [0,0,0,1,0], [0,0,0,1,0],\n",
    "    [0,0,0,1,0], [0,0,0,1,0], [0,0,0,1,0], [0,0,0,1,0],\n",
    "    [0,0,0,1,0], [0,0,0,1,0], [0,0,0,1,0], [0,0,0,1,0],\n",
    "    [0,0,0,1,0], [0,0,0,1,0], [0,0,0,1,0], [0,0,0,1,0],\n",
    "    [0,0,0,1,0], [0,0,0,1,0], [0,0,0,1,0], [0,0,0,1,0],\n",
    "]).float().to(device)\n",
    "samples, intermediate = sample_ddpm_context(ctx.shape[0], ctx)\n",
    "animation_ddpm_context = plot_sample(intermediate,ctx.shape[0],8, save_dir, \"ani_run\", None,save=False)\n",
    "HTML(animation_ddpm_context.to_jshtml())"
   ]
  },
  {
   "cell_type": "markdown",
   "id": "bd10c025-c516-4d17-88a6-3036ea996264",
   "metadata": {},
   "source": [
    "# Acknowledgments\n",
    "  This code is modified from [minDiffusion](https://github.com/cloneofsimo/minDiffusion) and [DLAI](https://learn.deeplearning.ai/)\n"
   ]
  }
 ],
 "metadata": {
  "kernelspec": {
   "display_name": "Python 3 (ipykernel)",
   "language": "python",
   "name": "python3"
  },
  "language_info": {
   "codemirror_mode": {
    "name": "ipython",
    "version": 3
   },
   "file_extension": ".py",
   "mimetype": "text/x-python",
   "name": "python",
   "nbconvert_exporter": "python",
   "pygments_lexer": "ipython3",
   "version": "3.8.2"
  }
 },
 "nbformat": 4,
 "nbformat_minor": 5
}
