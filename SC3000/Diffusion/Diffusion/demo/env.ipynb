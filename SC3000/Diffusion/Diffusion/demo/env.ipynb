{
 "cells": [
  {
   "attachments": {},
   "cell_type": "markdown",
   "id": "1401b6d5-1f83-48c0-9574-2b61b7e4c15d",
   "metadata": {},
   "source": [
    "# $\\clubsuit$ Step3: Environment Preparation"
   ]
  },
  {
   "cell_type": "markdown",
   "id": "54ffcbfc-45b7-4d27-8437-6a2211e0d44e",
   "metadata": {},
   "source": [
    "### $\\Rightarrow$ (1) Install PyTorch:"
   ]
  },
  {
   "cell_type": "code",
   "execution_count": null,
   "id": "4b463986-487e-4525-938c-dd3ea900bc7b",
   "metadata": {},
   "outputs": [],
   "source": [
    "!pip install torch torchvision torchaudio"
   ]
  },
  {
   "cell_type": "markdown",
   "id": "0e44e768-e289-4515-a2bb-05e31b5fa98d",
   "metadata": {},
   "source": [
    "### $\\Rightarrow$ (2) Install the packages tqdm, matplotlib, and numpy:"
   ]
  },
  {
   "cell_type": "code",
   "execution_count": null,
   "id": "e1a9eb5e-1f4e-4fe2-9b70-e265b3561872",
   "metadata": {},
   "outputs": [],
   "source": [
    "!pip install tqdm matplotlib numpy"
   ]
  }
 ],
 "metadata": {
  "kernelspec": {
   "display_name": "Python 3 (ipykernel)",
   "language": "python",
   "name": "python3"
  },
  "language_info": {
   "codemirror_mode": {
    "name": "ipython",
    "version": 3
   },
   "file_extension": ".py",
   "mimetype": "text/x-python",
   "name": "python",
   "nbconvert_exporter": "python",
   "pygments_lexer": "ipython3",
   "version": "3.8.2"
  }
 },
 "nbformat": 4,
 "nbformat_minor": 5
}
