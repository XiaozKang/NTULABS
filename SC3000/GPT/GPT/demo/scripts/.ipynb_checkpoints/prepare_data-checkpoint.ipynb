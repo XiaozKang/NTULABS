{
 "cells": [
  {
   "attachments": {},
   "cell_type": "markdown",
   "id": "95ee37a2-209a-41a8-ab4f-de4f78f8bcb1",
   "metadata": {},
   "source": [
    "### Step4: Dataset preparation"
   ]
  },
  {
   "cell_type": "markdown",
   "id": "18cdeb93-f4fc-4b9c-a649-8f05b8869e58",
   "metadata": {},
   "source": [
    "#### (1) Import packages"
   ]
  },
  {
   "cell_type": "code",
   "execution_count": null,
   "id": "28149ddddc9d285c",
   "metadata": {
    "ExecuteTime": {
     "end_time": "2023-12-24T08:56:52.838376Z",
     "start_time": "2023-12-24T08:56:51.380274Z"
    }
   },
   "outputs": [],
   "source": [
    "import os,pickle,requests\n",
    "import numpy as np"
   ]
  },
  {
   "cell_type": "markdown",
   "id": "e00af9d3-893a-4e8d-9514-d3c5bd14e722",
   "metadata": {},
   "source": [
    "#### (2) Download the Shakespeare dataset"
   ]
  },
  {
   "cell_type": "code",
   "execution_count": null,
   "id": "41cf8e3c-5a95-4410-bbc0-1237ade8f13d",
   "metadata": {},
   "outputs": [],
   "source": [
    "input_file_path = '../data/shakespeare_char/input.txt'\n",
    "data_url = 'https://raw.githubusercontent.com/karpathy/char-rnn/master/data/tinyshakespeare/input.txt'\n",
    "\n",
    "if not os.path.exists(input_file_path):\n",
    "    with open(input_file_path, 'w') as f:\n",
    "        f.write(requests.get(data_url).text)"
   ]
  },
  {
   "cell_type": "markdown",
   "id": "6ca2fcfb-b37c-45a6-a31f-dcbf2ccb020e",
   "metadata": {},
   "source": [
    "#### (3) Print the texts from the Shakespeare dataset"
   ]
  },
  {
   "cell_type": "code",
   "execution_count": null,
   "id": "a95f2342-3b86-4194-a8a6-2c369ff09c17",
   "metadata": {},
   "outputs": [],
   "source": [
    "with open(input_file_path, 'r') as f:\n",
    "    data = f.read()\n",
    "print(f\"length of dataset in characters: {len(data):,}\")\n",
    "print(data[:1000])"
   ]
  },
  {
   "cell_type": "markdown",
   "id": "9759c751-4dce-4c3f-84ef-59ec57b6c888",
   "metadata": {},
   "source": [
    "#### (4) Build the training and testing set in character level"
   ]
  },
  {
   "cell_type": "code",
   "execution_count": null,
   "id": "9a27fb8c90d84bdc",
   "metadata": {
    "ExecuteTime": {
     "end_time": "2023-12-24T08:56:53.060266Z",
     "start_time": "2023-12-24T08:56:52.983354Z"
    }
   },
   "outputs": [],
   "source": [
    "n = len(data)\n",
    "train_data = data[:int(n*0.9)]\n",
    "val_data = data[int(n*0.9):]\n",
    "\n",
    "chars = sorted(list(set(data)))\n",
    "vocab_size = len(chars)\n",
    "print(\"all the unique characters:\", ''.join(chars))\n",
    "print(f\"vocab size: {vocab_size:,}\")\n",
    "\n",
    "# The codebook of characters\n",
    "stoi = { ch:i for i,ch in enumerate(chars) }\n",
    "itos = { i:ch for i,ch in enumerate(chars) }\n",
    "\n",
    "def encode(s):\n",
    "    # Encoder: take a string, output a list of integers\n",
    "    return [stoi[c] for c in s] \n",
    "\n",
    "train_ids = encode(train_data)\n",
    "val_ids = encode(val_data)\n",
    "print(f\"train has {len(train_ids):,} tokens\")\n",
    "print(f\"val has {len(val_ids):,} tokens\")\n",
    "\n",
    "# train.bin and test.bin\n",
    "train_ids = np.array(train_ids, dtype=np.uint16)\n",
    "val_ids = np.array(val_ids, dtype=np.uint16)\n",
    "train_ids.tofile('../data/shakespeare_char/train.bin')\n",
    "val_ids.tofile('../data/shakespeare_char/val.bin')\n",
    "\n",
    "meta = {\n",
    "        'vocab_size': vocab_size,\n",
    "        'itos': itos,\n",
    "        'stoi': stoi,\n",
    "        }\n",
    "\n",
    "with open('../data/shakespeare_char/meta.pkl', 'wb') as f:\n",
    "    pickle.dump(meta, f)"
   ]
  }
 ],
 "metadata": {
  "kernelspec": {
   "display_name": "Python 3 (ipykernel)",
   "language": "python",
   "name": "python3"
  },
  "language_info": {
   "codemirror_mode": {
    "name": "ipython",
    "version": 3
   },
   "file_extension": ".py",
   "mimetype": "text/x-python",
   "name": "python",
   "nbconvert_exporter": "python",
   "pygments_lexer": "ipython3",
   "version": "3.8.2"
  }
 },
 "nbformat": 4,
 "nbformat_minor": 5
}
