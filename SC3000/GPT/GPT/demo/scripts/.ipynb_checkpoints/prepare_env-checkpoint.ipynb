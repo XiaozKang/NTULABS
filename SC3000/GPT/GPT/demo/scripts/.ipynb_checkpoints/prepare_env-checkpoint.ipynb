{
 "cells": [
  {
   "attachments": {},
   "cell_type": "markdown",
   "id": "28a7a5e0-6612-495f-b476-5cbca683b90f",
   "metadata": {},
   "source": [
    "### Stage3: Environment preparation"
   ]
  },
  {
   "cell_type": "markdown",
   "id": "296836d4-6be5-48b6-96c9-3a9e28555381",
   "metadata": {},
   "source": [
    "#### (1) Install the packages transformers, datasets, tqdm, wandb, numpy, tiktoken, and matplotlib "
   ]
  },
  {
   "cell_type": "code",
   "execution_count": null,
   "id": "66d792eb",
   "metadata": {},
   "outputs": [],
   "source": [
    "!pip install transformers datasets tqdm wandb numpy tiktoken matplotlib"
   ]
  },
  {
   "cell_type": "markdown",
   "id": "7788b738-39ec-4e29-afdf-717af767c1c9",
   "metadata": {},
   "source": [
    "#### (2) Install the PyTorch that adds support for the M1 and M2 chips "
   ]
  },
  {
   "cell_type": "code",
   "execution_count": null,
   "id": "2618646b",
   "metadata": {},
   "outputs": [],
   "source": [
    "!pip install  --pre torch torchvision torchaudio   --extra-index-url https://download.pytorch.org/whl/nightly/cpu"
   ]
  }
 ],
 "metadata": {
  "kernelspec": {
   "display_name": "Python 3 (ipykernel)",
   "language": "python",
   "name": "python3"
  },
  "language_info": {
   "codemirror_mode": {
    "name": "ipython",
    "version": 3
   },
   "file_extension": ".py",
   "mimetype": "text/x-python",
   "name": "python",
   "nbconvert_exporter": "python",
   "pygments_lexer": "ipython3",
   "version": "3.8.2"
  }
 },
 "nbformat": 4,
 "nbformat_minor": 5
}
